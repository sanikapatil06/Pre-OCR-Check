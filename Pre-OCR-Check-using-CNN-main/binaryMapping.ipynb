{
 "cells": [
  {
   "cell_type": "code",
   "execution_count": 21,
   "metadata": {},
   "outputs": [
    {
     "data": {
      "text/plain": [
       "True"
      ]
     },
     "execution_count": 21,
     "metadata": {},
     "output_type": "execute_result"
    }
   ],
   "source": [
    "import cv2\n",
    "import numpy as np\n",
    "\n",
    "# Load the image\n",
    "img = cv2.imread(\"Final_Hackathon_Data/Bad_Images[75 <Accuracy < 85 ]/PMI-472031-7_dot__std.jpg\")\n",
    "\n",
    "# Convert the image to grayscale\n",
    "gray = cv2.cvtColor(img, cv2.COLOR_BGR2GRAY)\n",
    "\n",
    "# Apply the Canny edge detection algorithm\n",
    "edges = cv2.Canny(gray, 50, 150)\n",
    "\n",
    "# Find the contours in the image\n",
    "contours, hierarchy = cv2.findContours(edges, cv2.RETR_EXTERNAL, cv2.CHAIN_APPROX_SIMPLE)\n",
    "\n",
    "# Draw the contours on the original image\n",
    "cv2.drawContours(img, contours, -1, (0, 255, 0), 3)\n",
    "\n",
    "cv2.imwrite(\"output.jpg\",img)\n"
   ]
  },
  {
   "cell_type": "code",
   "execution_count": 2,
   "metadata": {},
   "outputs": [],
   "source": [
    "image_file = 'Final_Hackathon_Data/Bad_Images[75 <Accuracy < 85 ]/PMI-472031-7_dot__std.jpg'"
   ]
  },
  {
   "cell_type": "code",
   "execution_count": 25,
   "metadata": {},
   "outputs": [],
   "source": [
    "import cv2\n",
    "import numpy as np\n",
    "\n",
    "# Load the input image\n",
    "img = cv2.imread(image_file, cv2.IMREAD_GRAYSCALE)\n",
    "\n",
    "# Threshold the image to create a binary image\n",
    "threshold, img_bin = cv2.threshold(img, 128, 255, cv2.THRESH_BINARY)\n",
    "\n",
    "# Perform connected component analysis\n",
    "output = cv2.connectedComponentsWithStats(img_bin, 4, cv2.CV_32S)\n",
    "\n",
    "# Get the number of connected components and the labels map\n",
    "num_components = output[0]\n",
    "labels = output[1]\n",
    "\n",
    "# Create a color map for the connected components\n",
    "colors = np.random.randint(0, 255, size=(num_components, 3), dtype=\"uint8\")\n",
    "\n",
    "# Loop over the connected components\n",
    "for i in range(1, num_components):\n",
    "    # Get the pixels with the same label\n",
    "    component = np.zeros(img.shape, dtype=\"uint8\")\n",
    "    component[labels == i] = 255\n",
    "\n",
    "    # Randomly color the component\n",
    "    color = tuple(colors[i].tolist())\n",
    "    colored_component = cv2.merge([component, component, component])\n",
    "    # colored_component = cv2.cvtColor(colored_component, cv2.COLOR_BGR2GRAY)\n",
    "    # colored_component = cv2.cvtColor(colored_component, cv2.COLOR_GRAY2BGR)\n",
    "    colored_component[component == 255] = (0,0,255)\n",
    "\n",
    "    # Show the component\n",
    "    cv2.imwrite(\"Component {}.png\".format(i), colored_component)\n",
    "    break\n",
    "\n"
   ]
  },
  {
   "cell_type": "code",
   "execution_count": 23,
   "metadata": {},
   "outputs": [
    {
     "data": {
      "text/plain": [
       "tuple"
      ]
     },
     "execution_count": 23,
     "metadata": {},
     "output_type": "execute_result"
    }
   ],
   "source": [
    "type(color)"
   ]
  },
  {
   "cell_type": "code",
   "execution_count": 17,
   "metadata": {},
   "outputs": [
    {
     "name": "stdout",
     "output_type": "stream",
     "text": [
      "[[  0   0   0]\n",
      " [235  99 222]]\n"
     ]
    }
   ],
   "source": [
    "component = cv2.imread('Component 1.png')\n",
    "img_reshaped = component.reshape(-1, 3)\n",
    "\n",
    "# Find the unique RGB values\n",
    "unique_pixels, counts = np.unique(img_reshaped, axis=0, return_counts=True)\n",
    "\n",
    "# Print the unique RGB values\n",
    "print(unique_pixels)"
   ]
  },
  {
   "cell_type": "code",
   "execution_count": 40,
   "metadata": {},
   "outputs": [],
   "source": [
    "image_file = 'Final_Hackathon_Data/Bad_Images[75 <Accuracy < 85 ]/PMI-472031-7_dot__std.jpg'"
   ]
  },
  {
   "cell_type": "code",
   "execution_count": 42,
   "metadata": {},
   "outputs": [],
   "source": [
    "import cv2\n",
    "import numpy as np\n",
    "\n",
    "# Load the image\n",
    "img = cv2.imread(image_file)\n",
    "\n",
    "# Convert the image to grayscale\n",
    "gray = cv2.cvtColor(img, cv2.COLOR_BGR2GRAY)\n",
    "cv2.imwrite(\"gray_temp.jpg\",gray)\n",
    "# Apply Gaussian blur\n",
    "blur = cv2.GaussianBlur(gray, (5, 5), 0)\n",
    "\n",
    "# Detect edges using Canny\n",
    "edges = cv2.Canny(blur, 50, 150)\n",
    "cv2.imwrite(\"edge_temp.jpg\",edges)\n",
    "\n",
    "# Detect circles using HoughCircles\n",
    "circles = cv2.HoughCircles(edges, cv2.HOUGH_GRADIENT, 1, 20, param1=50, param2=30, minRadius=8, maxRadius=50)\n",
    "\n",
    "# # Filter circles based on the desired radius\n",
    "# desired_radius = 20\n",
    "# filtered_circles = []\n",
    "# for i in circles[0, :]:\n",
    "#     if i[2] == desired_radius:\n",
    "#         filtered_circles.append(i)\n",
    "\n",
    "# # Draw the filtered circles onto the original image\n",
    "# for i in circles:\n",
    "#     cv2.circle(img, (i[0], i[1]), i[2], (255, 255, 255), 2)\n",
    "#     cv2.circle(img, (i[0], i[1]), 2, (255, 255, 255), 3)\n",
    "\n",
    "# cv2.imwrite(\"noise.jpg\",img)\n"
   ]
  },
  {
   "cell_type": "code",
   "execution_count": 55,
   "metadata": {},
   "outputs": [
    {
     "data": {
      "text/plain": [
       "array([[0, 0, 0, ..., 0, 0, 0],\n",
       "       [0, 0, 0, ..., 0, 0, 0],\n",
       "       [0, 0, 0, ..., 0, 0, 0],\n",
       "       ...,\n",
       "       [0, 0, 0, ..., 0, 0, 0],\n",
       "       [0, 0, 0, ..., 0, 0, 0],\n",
       "       [0, 0, 0, ..., 0, 0, 0]], dtype=uint8)"
      ]
     },
     "execution_count": 55,
     "metadata": {},
     "output_type": "execute_result"
    }
   ],
   "source": [
    "edges"
   ]
  },
  {
   "cell_type": "code",
   "execution_count": 56,
   "metadata": {},
   "outputs": [
    {
     "data": {
      "text/plain": [
       "array([[0, 0],\n",
       "       [0, 0]], dtype=uint8)"
      ]
     },
     "execution_count": 56,
     "metadata": {},
     "output_type": "execute_result"
    }
   ],
   "source": [
    "template = np.zeros((2,2),np.uint8)\n",
    "template"
   ]
  },
  {
   "cell_type": "code",
   "execution_count": 57,
   "metadata": {},
   "outputs": [],
   "source": [
    "eroded_image = cv2.erode(edges, template, iterations=1)"
   ]
  },
  {
   "cell_type": "code",
   "execution_count": 59,
   "metadata": {},
   "outputs": [
    {
     "data": {
      "text/plain": [
       "True"
      ]
     },
     "execution_count": 59,
     "metadata": {},
     "output_type": "execute_result"
    }
   ],
   "source": [
    "cv2.imwrite(\"erode.jpg\",eroded_image)"
   ]
  },
  {
   "cell_type": "code",
   "execution_count": 24,
   "metadata": {},
   "outputs": [],
   "source": [
    "edge_input = cv2.imwrite(\"edges.jpg\",edges)"
   ]
  },
  {
   "attachments": {},
   "cell_type": "markdown",
   "metadata": {},
   "source": [
    "################################"
   ]
  },
  {
   "cell_type": "code",
   "execution_count": 2,
   "metadata": {},
   "outputs": [],
   "source": [
    "import cv2\n",
    "import numpy as np\n",
    "test_input = cv2.imread(\"edges.jpg\")\n",
    "gray = cv2.cvtColor(test_input, cv2.COLOR_BGR2GRAY)"
   ]
  },
  {
   "cell_type": "code",
   "execution_count": 14,
   "metadata": {},
   "outputs": [
    {
     "data": {
      "text/plain": [
       "(10, 10)"
      ]
     },
     "execution_count": 14,
     "metadata": {},
     "output_type": "execute_result"
    }
   ],
   "source": [
    "small_gray = gray[0:10,0:10]\n",
    "small_gray.shape"
   ]
  },
  {
   "cell_type": "code",
   "execution_count": 15,
   "metadata": {},
   "outputs": [],
   "source": [
    "circles = cv2.HoughCircles(small_gray, cv2.HOUGH_GRADIENT, 1, 1, param1=1, param2=3, minRadius=10, maxRadius=50)"
   ]
  },
  {
   "cell_type": "code",
   "execution_count": 16,
   "metadata": {},
   "outputs": [],
   "source": [
    "circles"
   ]
  },
  {
   "cell_type": "code",
   "execution_count": 9,
   "metadata": {},
   "outputs": [],
   "source": [
    "import cv2\n",
    "import numpy as np\n",
    "image = np.array(edges, dtype=np.uint8)"
   ]
  },
  {
   "cell_type": "code",
   "execution_count": 12,
   "metadata": {},
   "outputs": [
    {
     "ename": "error",
     "evalue": "OpenCV(4.7.0) /io/opencv/modules/imgproc/src/color.simd_helpers.hpp:92: error: (-2:Unspecified error) in function 'cv::impl::{anonymous}::CvtHelper<VScn, VDcn, VDepth, sizePolicy>::CvtHelper(cv::InputArray, cv::OutputArray, int) [with VScn = cv::impl::{anonymous}::Set<1>; VDcn = cv::impl::{anonymous}::Set<3, 4>; VDepth = cv::impl::{anonymous}::Set<0, 2, 5>; cv::impl::{anonymous}::SizePolicy sizePolicy = cv::impl::<unnamed>::NONE; cv::InputArray = const cv::_InputArray&; cv::OutputArray = const cv::_OutputArray&]'\n> Invalid number of channels in input image:\n>     'VScn::contains(scn)'\n> where\n>     'scn' is 3\n",
     "output_type": "error",
     "traceback": [
      "\u001b[0;31m---------------------------------------------------------------------------\u001b[0m",
      "\u001b[0;31merror\u001b[0m                                     Traceback (most recent call last)",
      "Cell \u001b[0;32mIn [12], line 1\u001b[0m\n\u001b[0;32m----> 1\u001b[0m cv_image \u001b[39m=\u001b[39m cv2\u001b[39m.\u001b[39;49mcvtColor(image, cv2\u001b[39m.\u001b[39;49mCOLOR_GRAY2BGR)\n\u001b[1;32m      2\u001b[0m \u001b[39mtype\u001b[39m(cv_image)\n",
      "\u001b[0;31merror\u001b[0m: OpenCV(4.7.0) /io/opencv/modules/imgproc/src/color.simd_helpers.hpp:92: error: (-2:Unspecified error) in function 'cv::impl::{anonymous}::CvtHelper<VScn, VDcn, VDepth, sizePolicy>::CvtHelper(cv::InputArray, cv::OutputArray, int) [with VScn = cv::impl::{anonymous}::Set<1>; VDcn = cv::impl::{anonymous}::Set<3, 4>; VDepth = cv::impl::{anonymous}::Set<0, 2, 5>; cv::impl::{anonymous}::SizePolicy sizePolicy = cv::impl::<unnamed>::NONE; cv::InputArray = const cv::_InputArray&; cv::OutputArray = const cv::_OutputArray&]'\n> Invalid number of channels in input image:\n>     'VScn::contains(scn)'\n> where\n>     'scn' is 3\n"
     ]
    }
   ],
   "source": [
    "cv_image = cv2.cvtColor(image, cv2.COLOR_GRAY2BGR)\n",
    "type(cv_image)"
   ]
  },
  {
   "cell_type": "code",
   "execution_count": 4,
   "metadata": {},
   "outputs": [
    {
     "ename": "error",
     "evalue": "OpenCV(4.7.0) /io/opencv/modules/imgproc/src/hough.cpp:2269: error: (-215:Assertion failed) !_image.empty() && _image.type() == CV_8UC1 && (_image.isMat() || _image.isUMat()) in function 'HoughCircles'\n",
     "output_type": "error",
     "traceback": [
      "\u001b[0;31m---------------------------------------------------------------------------\u001b[0m",
      "\u001b[0;31merror\u001b[0m                                     Traceback (most recent call last)",
      "Cell \u001b[0;32mIn [4], line 1\u001b[0m\n\u001b[0;32m----> 1\u001b[0m circles \u001b[39m=\u001b[39m cv2\u001b[39m.\u001b[39;49mHoughCircles(edges, cv2\u001b[39m.\u001b[39;49mHOUGH_GRADIENT, \u001b[39m1\u001b[39;49m, \u001b[39m1\u001b[39;49m, param1\u001b[39m=\u001b[39;49m\u001b[39m1\u001b[39;49m, param2\u001b[39m=\u001b[39;49m\u001b[39m3\u001b[39;49m, minRadius\u001b[39m=\u001b[39;49m\u001b[39m2\u001b[39;49m, maxRadius\u001b[39m=\u001b[39;49m\u001b[39m50\u001b[39;49m)\n",
      "\u001b[0;31merror\u001b[0m: OpenCV(4.7.0) /io/opencv/modules/imgproc/src/hough.cpp:2269: error: (-215:Assertion failed) !_image.empty() && _image.type() == CV_8UC1 && (_image.isMat() || _image.isUMat()) in function 'HoughCircles'\n"
     ]
    }
   ],
   "source": [
    "circles = cv2.HoughCircles(cv_image, cv2.HOUGH_GRADIENT, 1, 1, param1=1, param2=3, minRadius=2, maxRadius=50)"
   ]
  },
  {
   "cell_type": "code",
   "execution_count": 19,
   "metadata": {},
   "outputs": [
    {
     "data": {
      "text/plain": [
       "array([[[0, 0, 0],\n",
       "        [0, 0, 0],\n",
       "        [0, 0, 0],\n",
       "        ...,\n",
       "        [0, 0, 0],\n",
       "        [0, 0, 0],\n",
       "        [0, 0, 0]],\n",
       "\n",
       "       [[0, 0, 0],\n",
       "        [0, 0, 0],\n",
       "        [0, 0, 0],\n",
       "        ...,\n",
       "        [0, 0, 0],\n",
       "        [0, 0, 0],\n",
       "        [0, 0, 0]],\n",
       "\n",
       "       [[0, 0, 0],\n",
       "        [0, 0, 0],\n",
       "        [0, 0, 0],\n",
       "        ...,\n",
       "        [0, 0, 0],\n",
       "        [0, 0, 0],\n",
       "        [0, 0, 0]],\n",
       "\n",
       "       ...,\n",
       "\n",
       "       [[0, 0, 0],\n",
       "        [0, 0, 0],\n",
       "        [0, 0, 0],\n",
       "        ...,\n",
       "        [0, 0, 0],\n",
       "        [0, 0, 0],\n",
       "        [0, 0, 0]],\n",
       "\n",
       "       [[0, 0, 0],\n",
       "        [0, 0, 0],\n",
       "        [0, 0, 0],\n",
       "        ...,\n",
       "        [0, 0, 0],\n",
       "        [0, 0, 0],\n",
       "        [0, 0, 0]],\n",
       "\n",
       "       [[0, 0, 0],\n",
       "        [0, 0, 0],\n",
       "        [0, 0, 0],\n",
       "        ...,\n",
       "        [0, 0, 0],\n",
       "        [0, 0, 0],\n",
       "        [0, 0, 0]]], dtype=uint8)"
      ]
     },
     "execution_count": 19,
     "metadata": {},
     "output_type": "execute_result"
    }
   ],
   "source": [
    "image = np.zeros((500, 500), dtype=np.uint8)\n",
    "edges"
   ]
  },
  {
   "cell_type": "code",
   "execution_count": 60,
   "metadata": {},
   "outputs": [],
   "source": [
    "import cv2"
   ]
  },
  {
   "cell_type": "code",
   "execution_count": 61,
   "metadata": {},
   "outputs": [],
   "source": [
    "net = cv2.dnn.readNet('frozen_east_text_detection.pb')"
   ]
  },
  {
   "cell_type": "code",
   "execution_count": 62,
   "metadata": {},
   "outputs": [],
   "source": [
    "image = cv2.imread('Final_Hackathon_Data/Good_Images [85 < Accuracy < 95]/image._std.jpg')"
   ]
  },
  {
   "cell_type": "code",
   "execution_count": 67,
   "metadata": {},
   "outputs": [],
   "source": [
    "(inpHeight,inpWidth) =  image.shape[0:2]"
   ]
  },
  {
   "cell_type": "code",
   "execution_count": 68,
   "metadata": {},
   "outputs": [],
   "source": [
    "blob = cv2.dnn.blobFromImage(image, 1.0, (inpWidth, inpHeight), (123.68, 116.78, 103.94), True, False)\n"
   ]
  },
  {
   "cell_type": "code",
   "execution_count": 69,
   "metadata": {},
   "outputs": [],
   "source": [
    "outputLayers = []\n",
    "outputLayers.append(\"feature_fusion/Conv_7/Sigmoid\")\n",
    "outputLayers.append(\"feature_fusion/concat_3\")"
   ]
  },
  {
   "cell_type": "code",
   "execution_count": 70,
   "metadata": {},
   "outputs": [
    {
     "name": "stderr",
     "output_type": "stream",
     "text": [
      "[ERROR:0@11489.797] global net_impl.cpp:1161 getLayerShapesRecursively OPENCV/DNN: [Concat]:(feature_fusion/concat): getMemoryShapes() throws exception. inputs=2 outputs=1/1 blobs=0\n",
      "[ERROR:0@11489.798] global net_impl.cpp:1167 getLayerShapesRecursively     input[0] = [ 1 2048 28 40 ]\n",
      "[ERROR:0@11489.798] global net_impl.cpp:1167 getLayerShapesRecursively     input[1] = [ 1 512 27 40 ]\n",
      "[ERROR:0@11489.798] global net_impl.cpp:1171 getLayerShapesRecursively     output[0] = [ 1 2048 28 40 ]\n",
      "[ERROR:0@11489.798] global net_impl.cpp:1177 getLayerShapesRecursively Exception message: OpenCV(4.7.0) /io/opencv/modules/dnn/src/layers/concat_layer.cpp:109: error: (-201:Incorrect size of input array) Inconsistent shape for ConcatLayer in function 'getMemoryShapes'\n",
      "\n"
     ]
    },
    {
     "ename": "error",
     "evalue": "OpenCV(4.7.0) /io/opencv/modules/dnn/src/layers/concat_layer.cpp:109: error: (-201:Incorrect size of input array) Inconsistent shape for ConcatLayer in function 'getMemoryShapes'\n",
     "output_type": "error",
     "traceback": [
      "\u001b[0;31m---------------------------------------------------------------------------\u001b[0m",
      "\u001b[0;31merror\u001b[0m                                     Traceback (most recent call last)",
      "Cell \u001b[0;32mIn [70], line 2\u001b[0m\n\u001b[1;32m      1\u001b[0m net\u001b[39m.\u001b[39msetInput(blob)\n\u001b[0;32m----> 2\u001b[0m output \u001b[39m=\u001b[39m net\u001b[39m.\u001b[39;49mforward(outputLayers)\n\u001b[1;32m      3\u001b[0m scores \u001b[39m=\u001b[39m output[\u001b[39m0\u001b[39m]\n\u001b[1;32m      4\u001b[0m geometry \u001b[39m=\u001b[39m output[\u001b[39m1\u001b[39m]\n",
      "\u001b[0;31merror\u001b[0m: OpenCV(4.7.0) /io/opencv/modules/dnn/src/layers/concat_layer.cpp:109: error: (-201:Incorrect size of input array) Inconsistent shape for ConcatLayer in function 'getMemoryShapes'\n"
     ]
    }
   ],
   "source": [
    "net.setInput(blob)\n",
    "output = net.forward(outputLayers)\n",
    "scores = output[0]\n",
    "geometry = output[1]"
   ]
  },
  {
   "attachments": {},
   "cell_type": "markdown",
   "metadata": {},
   "source": [
    "#####################"
   ]
  },
  {
   "cell_type": "code",
   "execution_count": 357,
   "metadata": {},
   "outputs": [],
   "source": [
    "import os\n",
    "import cv2\n",
    "import numpy as np\n",
    "import random"
   ]
  },
  {
   "cell_type": "code",
   "execution_count": 358,
   "metadata": {},
   "outputs": [],
   "source": [
    "level = 'bad'\n",
    "blur_level = 2\n",
    "noise_level= 0.5"
   ]
  },
  {
   "cell_type": "code",
   "execution_count": 359,
   "metadata": {},
   "outputs": [],
   "source": [
    "blur_level = blur_level * 5\n",
    "noise_level = noise_level\n",
    "spot_level = 0.3"
   ]
  },
  {
   "cell_type": "code",
   "execution_count": 360,
   "metadata": {},
   "outputs": [
    {
     "data": {
      "text/plain": [
       "0"
      ]
     },
     "execution_count": 360,
     "metadata": {},
     "output_type": "execute_result"
    }
   ],
   "source": [
    "os.system(f'cd ./output/ && mkdir {level}')\n",
    "os.system(f'cd ./output/{level}/ && mkdir _noise _blur _spot')"
   ]
  },
  {
   "cell_type": "code",
   "execution_count": 401,
   "metadata": {},
   "outputs": [],
   "source": [
    "def blur_image(image):\n",
    "    # Create a Gaussian blur kernel with a random kernel size\n",
    "    # kernel_size = random.randint(1, 21)\n",
    "    # if kernel_size %2 ==0:\n",
    "    #     kernel_size += 1\n",
    "    kernel = (5, 5)\n",
    "\n",
    "    # Apply Gaussian blur to the image\n",
    "    return cv2.GaussianBlur(image, kernel, blur_level)\n",
    "\n",
    "def add_noise(image):\n",
    "    # Create a noisy image by adding random values to the original image\n",
    "    row, col, _ = image.shape\n",
    "    mean = 0\n",
    "    var = random.uniform(0, 50)\n",
    "    sigma = var**(noise_level)*(row*col//10000)\n",
    "    noise = np.random.normal(mean, sigma, (row, col, 3))\n",
    "    noisy_image = image + noise\n",
    "\n",
    "    # Clipping the image to keep its values between 0 and 255\n",
    "    noisy_image = np.clip(noisy_image, 0, 255).astype(np.uint8)\n",
    "\n",
    "    return noisy_image\n",
    "\n",
    "def add_black_spot(image):\n",
    "    # Add a black spot to the image by replacing a random rectangular region with zeros\n",
    "    row, col, _ = image.shape\n",
    "    print(image.shape)\n",
    "    spot_width = random.randint(5, 10)\n",
    "    spot_height = random.randint(5, 10)\n",
    "    spot_density = int(row*col*0.00001)\n",
    "    for _ in range(spot_density):\n",
    "        x = random.randint(0, row - spot_height)\n",
    "        y = random.randint(0, col - spot_width)\n",
    "        image[x:x+spot_height, y:y+spot_width] = 0\n",
    "\n",
    "    return image\n",
    "\n",
    "def degrade_image(image,filename,level):\n",
    "    # Degrade the image by applying a random combination of the blur, noise and black spot functions\n",
    "    operations = {blur_image:\"_blur\", add_noise:\"_noise\", add_black_spot:\"_spot\"}\n",
    "    for operation in operations:\n",
    "        result = operation(image)\n",
    "        cv2.imwrite(f'./output/{level}/{operations[operation]}/'+filename+operations[operation]+\".jpg\",result)"
   ]
  },
  {
   "cell_type": "code",
   "execution_count": 402,
   "metadata": {},
   "outputs": [
    {
     "name": "stdout",
     "output_type": "stream",
     "text": [
      "image05\n",
      "(1069, 1315, 3)\n",
      "image03\n",
      "(357, 1849, 3)\n",
      "image02\n",
      "(768, 1320, 3)\n",
      "image07\n",
      "(479, 1661, 3)\n",
      "image06\n",
      "(564, 600, 3)\n",
      "image04\n",
      "(363, 1203, 3)\n",
      "image08\n",
      "(323, 859, 3)\n"
     ]
    }
   ],
   "source": [
    "for filename in os.listdir('DIBCOdataset'):\n",
    "    image = cv2.imread('DIBCOdataset/'+filename)\n",
    "    filename = filename.split('.')[0]\n",
    "    print(filename)\n",
    "    degrade_image(image,filename,level)\n",
    "    "
   ]
  },
  {
   "cell_type": "code",
   "execution_count": 268,
   "metadata": {},
   "outputs": [
    {
     "data": {
      "text/plain": [
       "1405735"
      ]
     },
     "execution_count": 268,
     "metadata": {},
     "output_type": "execute_result"
    }
   ],
   "source": [
    "1069 * 1315"
   ]
  }
 ],
 "metadata": {
  "kernelspec": {
   "display_name": "Python 3",
   "language": "python",
   "name": "python3"
  },
  "language_info": {
   "codemirror_mode": {
    "name": "ipython",
    "version": 3
   },
   "file_extension": ".py",
   "mimetype": "text/x-python",
   "name": "python",
   "nbconvert_exporter": "python",
   "pygments_lexer": "ipython3",
   "version": "3.10.6"
  },
  "orig_nbformat": 4,
  "vscode": {
   "interpreter": {
    "hash": "916dbcbb3f70747c44a77c7bcd40155683ae19c65e1c03b4aa3499c5328201f1"
   }
  }
 },
 "nbformat": 4,
 "nbformat_minor": 2
}
